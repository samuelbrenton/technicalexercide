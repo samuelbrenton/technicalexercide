{
 "cells": [
  {
   "cell_type": "markdown",
   "id": "64288d68-5a05-4422-817f-d9fc0a7ecc6e",
   "metadata": {},
   "source": [
    "# Binding Energy Exercise"
   ]
  },
  {
   "cell_type": "markdown",
   "id": "2afda2f0-3873-4609-852b-56d3c382b295",
   "metadata": {},
   "source": [
    "## Sigma and Epsilon as constant variables\n",
    "\n",
    "The sigma value is the distance from 0 to where the potential energy is 0 (metres)\n",
    "The epislon value is the energy (joules)\n",
    "\n",
    "_e is notation equivalent to 'x10 to the power of'_"
   ]
  },
  {
   "cell_type": "markdown",
   "id": "6a2e2119-bcf0-421e-8fc9-606c7d90049c",
   "metadata": {},
   "source": [
    "$$ 𝜎 = 3.41 \\times 10^{-10} \\, \\text{m} $$"
   ]
  },
  {
   "cell_type": "code",
   "execution_count": 1,
   "id": "d7d39d31-41c2-456a-98a3-d913a272685f",
   "metadata": {},
   "outputs": [],
   "source": [
    "SIGMA = 3.41e-10"
   ]
  },
  {
   "cell_type": "markdown",
   "id": "24ef1d0f-25a1-47d4-ab49-6dccbf04135d",
   "metadata": {},
   "source": [
    "$$ 𝜀 = 1.65 \\times 10^{-21} \\, \\text{J} $$"
   ]
  },
  {
   "cell_type": "code",
   "execution_count": 2,
   "id": "2d1d10c2-5128-4ef4-a578-ebf80eb73af5",
   "metadata": {},
   "outputs": [],
   "source": [
    "EPSILON = 1.65e-21"
   ]
  },
  {
   "cell_type": "markdown",
   "id": "568d7654-5d30-435c-8b9d-27848a509560",
   "metadata": {},
   "source": [
    "Example distance "
   ]
  },
  {
   "cell_type": "code",
   "execution_count": 3,
   "id": "710a6d0f-0cb4-4490-bcdf-5ee4c48c37e9",
   "metadata": {},
   "outputs": [],
   "source": [
    "r = 6.82e-10"
   ]
  },
  {
   "cell_type": "markdown",
   "id": "2d642ea5-451d-4d02-8fcd-81fe16cab5ba",
   "metadata": {},
   "source": [
    "---"
   ]
  },
  {
   "cell_type": "markdown",
   "id": "5fe423f4-6cd0-4b09-9fae-0f3aeffdba44",
   "metadata": {},
   "source": [
    "## Equation"
   ]
  },
  {
   "cell_type": "markdown",
   "id": "08b14d08-e935-44f7-afd0-425108ee97ad",
   "metadata": {},
   "source": [
    "$$ \\left(\\frac{\\sigma}{r}\\right)^{12}$$"
   ]
  },
  {
   "cell_type": "markdown",
   "id": "68140f6e-6169-48ba-b048-92b04a78c5dd",
   "metadata": {},
   "source": [
    "Left hand fraction between the square brackets"
   ]
  },
  {
   "cell_type": "code",
   "execution_count": 4,
   "id": "5ac22092-c4d5-4cc9-bfdf-cae301713285",
   "metadata": {},
   "outputs": [],
   "source": [
    "repulsion = (SIGMA / r) ** 12"
   ]
  },
  {
   "cell_type": "markdown",
   "id": "a6cc3ebf-6c65-406c-99ee-8b6faf821c34",
   "metadata": {},
   "source": [
    "$$ \\left(\\frac{\\sigma}{r}\\right)^{6}$$"
   ]
  },
  {
   "cell_type": "markdown",
   "id": "41f9a2b9-1c56-4f88-b0e8-d5c876702ac1",
   "metadata": {},
   "source": [
    "Right hand fraction between the square brackets"
   ]
  },
  {
   "cell_type": "code",
   "execution_count": 5,
   "id": "e01f616c-1e6a-4908-ad95-5c651522a9bc",
   "metadata": {},
   "outputs": [],
   "source": [
    "attraction = (SIGMA / r) ** 6"
   ]
  },
  {
   "cell_type": "markdown",
   "id": "17cc9210-760c-43ea-84d4-3d554edb96de",
   "metadata": {},
   "source": [
    "$$ U(r) = 4 \\varepsilon \\left[ \\left(\\frac{\\sigma}{r}\\right)^{12} - \\left(\\frac{\\sigma}{r}\\right)^6 \\right]$$"
   ]
  },
  {
   "cell_type": "markdown",
   "id": "401b4a6d-ecfa-410d-a694-f28339beedb3",
   "metadata": {},
   "source": [
    "Full formula"
   ]
  },
  {
   "cell_type": "code",
   "execution_count": 6,
   "id": "187c68cc-9808-4266-8a9e-4e3d16abc82a",
   "metadata": {},
   "outputs": [],
   "source": [
    "u = 4 * EPSILON * (repulsion - attraction)"
   ]
  },
  {
   "cell_type": "code",
   "execution_count": 7,
   "id": "fc887015-c0ce-4df6-bd74-9ac1695315e3",
   "metadata": {},
   "outputs": [
    {
     "data": {
      "text/plain": [
       "-1.0151367187500001e-22"
      ]
     },
     "execution_count": 7,
     "metadata": {},
     "output_type": "execute_result"
    }
   ],
   "source": [
    "u "
   ]
  },
  {
   "cell_type": "markdown",
   "id": "600a79c7-4443-4d33-9a5b-0d08327c93b0",
   "metadata": {},
   "source": [
    "Formatted to match figure in example "
   ]
  },
  {
   "cell_type": "code",
   "execution_count": 8,
   "id": "ad2cc91d-df7f-4833-93db-30afc5003e81",
   "metadata": {},
   "outputs": [
    {
     "name": "stdout",
     "output_type": "stream",
     "text": [
      "-1.0e-22\n"
     ]
    }
   ],
   "source": [
    "print('{:.1e}'.format(u))"
   ]
  }
 ],
 "metadata": {
  "kernelspec": {
   "display_name": "Python 3 (ipykernel)",
   "language": "python",
   "name": "python3"
  },
  "language_info": {
   "codemirror_mode": {
    "name": "ipython",
    "version": 3
   },
   "file_extension": ".py",
   "mimetype": "text/x-python",
   "name": "python",
   "nbconvert_exporter": "python",
   "pygments_lexer": "ipython3",
   "version": "3.11.7"
  }
 },
 "nbformat": 4,
 "nbformat_minor": 5
}
